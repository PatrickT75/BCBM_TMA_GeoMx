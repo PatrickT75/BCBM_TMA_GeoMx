{
 "cells": [
  {
   "cell_type": "code",
   "execution_count": null,
   "metadata": {},
   "outputs": [],
   "source": [
    "import pandas as pd\n",
    "from statsmodels.distributions.empirical_distribution import ECDF"
   ]
  },
  {
   "cell_type": "code",
   "execution_count": null,
   "metadata": {},
   "outputs": [],
   "source": [
    "# Extract the new sigmas from the UNC232 PAM50 training set. \n",
    "# UNC232 gene expression matrix and Immunohistochemistry (IHC) classes are provided.\n",
    "gene_expresion = pd.read_csv('./UNC232_gene_expresion.txt', sep='\\t', index_col=0)\n",
    "groups = pd.read_csv('./UNC232_groups.txt', sep='\\t', index_col=0)"
   ]
  },
  {
   "cell_type": "code",
   "execution_count": null,
   "metadata": {},
   "outputs": [],
   "source": [
    "gene_expresion.head()"
   ]
  },
  {
   "cell_type": "code",
   "execution_count": null,
   "metadata": {},
   "outputs": [],
   "source": [
    "groups.head()"
   ]
  },
  {
   "cell_type": "code",
   "execution_count": null,
   "metadata": {},
   "outputs": [],
   "source": [
    "pd.Series(groups.values.ravel()).dropna().unique()"
   ]
  },
  {
   "cell_type": "code",
   "execution_count": null,
   "metadata": {},
   "outputs": [],
   "source": [
    "def get_sigma(gene_expresion, groups):\n",
    "    \"\"\"Build quantile dataframe for each IHC group.\n",
    "    \n",
    "    For each gene it calculates the ECDF function within each IHC group,\n",
    "    and calls it using the overall median of that gene.\n",
    "    \n",
    "    :param gene_expresion: Gene expresion dataframe, i.e. UNC232\n",
    "    :param groups: IHC label dataframe for each sample on the gene expresion.\n",
    "    \n",
    "    :return: Quantile dataframe.\n",
    "    \"\"\"\n",
    "    groups_cols = pd.Series(groups.values.ravel()).dropna().unique()\n",
    "    res = pd.DataFrame({}, columns=groups_cols, index=gene_expresion.index)\n",
    "    for name, values in gene_expresion.iterrows():\n",
    "        for col in groups:\n",
    "            unique = groups[col].dropna().unique()\n",
    "            for u in unique:\n",
    "                samples_from_group = groups.loc[groups[col] == u].index\n",
    "                subset = values[samples_from_group].dropna()\n",
    "                res[u][name] = ECDF(subset)(values.median())\n",
    "    return res"
   ]
  },
  {
   "cell_type": "code",
   "execution_count": null,
   "metadata": {},
   "outputs": [],
   "source": [
    "sigma = get_sigma(gene_expresion, groups).sort_index(axis=1)"
   ]
  },
  {
   "cell_type": "code",
   "execution_count": null,
   "metadata": {},
   "outputs": [],
   "source": [
    "sigma.head()"
   ]
  },
  {
   "cell_type": "code",
   "execution_count": null,
   "metadata": {},
   "outputs": [],
   "source": [
    "sigma.to_csv('./SIGMAS_UNC232_v4.0.txt', sep='\\t')"
   ]
  },
  {
   "cell_type": "code",
   "execution_count": null,
   "metadata": {},
   "outputs": [],
   "source": [
    "gene_expr = pd.read_csv('/path/to/PAM50genes_for_subtyping.txt', sep='\\t', index_col=0)\n",
    "classes = pd.read_csv('/path/to/IHC_class_by_Sample.txt', sep='\\t', index_col=0)"
   ]
  },
  {
   "cell_type": "markdown",
   "metadata": {},
   "source": [
    "# Dataset for subtyping: gene expression and class format\n",
    "- PAM50genes_for_subtyping: expression matrix with PAM50 genes on the row (gene symbol in the same format than UNC232_gene_expresion.txt provided) and sample on the column. Data should be properly normalized and log2 transformed but without gene centering.\n",
    "- IHC_class_by_Sample: Immunohistochemistry subgroup of breast cancer to be subtyped (i.e., ERpos_HER2neg, HER2pos_ERneg, HER2pos_ERpos, TNBC)"
   ]
  },
  {
   "cell_type": "code",
   "execution_count": null,
   "metadata": {},
   "outputs": [],
   "source": [
    "gene_expr.head()"
   ]
  },
  {
   "cell_type": "code",
   "execution_count": null,
   "metadata": {},
   "outputs": [],
   "source": [
    "classes.head()"
   ]
  },
  {
   "cell_type": "code",
   "execution_count": null,
   "metadata": {},
   "outputs": [],
   "source": [
    "def quantile_centering(expr_matrix, gene_quantile):\n",
    "    \"\"\"Do row centering based on the quantile and IHC group.\n",
    "    \n",
    "    :param expr_matrix: pandas.DataFrame where row are genes and columns are samples\n",
    "    :param gene_quantile: pandas.DataFrame or Series containig all the genes in the\n",
    "      first parameter and the value of the quantile to be used, i.e. .5 if one wants\n",
    "      to do row centering using the mean.\n",
    "\n",
    "    :return: Subgroup-specific Centered dataframe.\n",
    "    \"\"\"\n",
    "    res = expr_matrix.copy()\n",
    "    for name, values in expr_matrix.iterrows():\n",
    "        q = gene_quantile.loc[name]\n",
    "        q_value = expr_matrix.loc[name].quantile(q)\n",
    "        res.loc[name] -= q_value\n",
    "    return res"
   ]
  },
  {
   "cell_type": "code",
   "execution_count": null,
   "metadata": {},
   "outputs": [],
   "source": [
    "centered = []\n",
    "# For each class in the test set get the samples and apply the quantiles from the train set\n",
    "for class_ in classes['IHC_class'].unique():\n",
    "    samples = classes.index[classes['IHC_class'] == class_]\n",
    "    gene_expr_class = gene_expr[samples]\n",
    "    percentile_group = sigma[class_]\n",
    "    centered.append(quantile_centering(gene_expr_class, percentile_group))\n",
    "result = pd.concat(centered, sort=False, axis=1)\n",
    "result"
   ]
  },
  {
   "cell_type": "code",
   "execution_count": null,
   "metadata": {},
   "outputs": [],
   "source": [
    "result.to_csv('./PAM50genes_normalized.txt', sep='\\t')"
   ]
  }
 ],
 "metadata": {
  "kernelspec": {
   "display_name": "Python 3",
   "language": "python",
   "name": "python3"
  },
  "language_info": {
   "codemirror_mode": {
    "name": "ipython",
    "version": 3
   },
   "file_extension": ".py",
   "mimetype": "text/x-python",
   "name": "python",
   "nbconvert_exporter": "python",
   "pygments_lexer": "ipython3",
   "version": "3.7.4"
  }
 },
 "nbformat": 4,
 "nbformat_minor": 4
}
